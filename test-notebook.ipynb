{
 "cells": [
  {
   "cell_type": "markdown",
   "metadata": {},
   "source": [
    "# How to use Jupyter with Python3 *and* R (via `rpy2`)"
   ]
  },
  {
   "cell_type": "code",
   "execution_count": 4,
   "metadata": {
    "collapsed": false
   },
   "outputs": [],
   "source": [
    "pythonVariable = 1+(2*46456)"
   ]
  },
  {
   "cell_type": "markdown",
   "metadata": {},
   "source": [
    "Latex' math notation is supported: $a_1 = a_2 \\cdot a_3^{a_4}$"
   ]
  },
  {
   "cell_type": "code",
   "execution_count": 5,
   "metadata": {
    "collapsed": false
   },
   "outputs": [
    {
     "name": "stdout",
     "output_type": "stream",
     "text": [
      "92779\n"
     ]
    }
   ],
   "source": [
    "print(pythonVariable - 134)"
   ]
  },
  {
   "cell_type": "markdown",
   "metadata": {},
   "source": [
    "# Connect Python with R"
   ]
  },
  {
   "cell_type": "markdown",
   "metadata": {},
   "source": [
    "There are so-called 'magic' commands (escaped via `%`) that allow to use more advanced features. Per default, execution via `%R` is not supported, as can be seen when listing the supported commands:"
   ]
  },
  {
   "cell_type": "code",
   "execution_count": 6,
   "metadata": {
    "collapsed": false,
    "scrolled": true
   },
   "outputs": [
    {
     "data": {
      "text/plain": [
       "Available line magics:\n",
       "%R  %Rdevice  %Rget  %Rpull  %Rpush  %alias  %alias_magic  %autocall  %automagic  %autosave  %bookmark  %cd  %clear  %cls  %colors  %config  %connect_info  %copy  %ddir  %debug  %dhist  %dirs  %doctest_mode  %echo  %ed  %edit  %env  %gui  %hist  %history  %killbgscripts  %ldir  %less  %load  %load_ext  %loadpy  %logoff  %logon  %logstart  %logstate  %logstop  %ls  %lsmagic  %macro  %magic  %matplotlib  %mkdir  %more  %notebook  %page  %pastebin  %pdb  %pdef  %pdoc  %pfile  %pinfo  %pinfo2  %popd  %pprint  %precision  %profile  %prun  %psearch  %psource  %pushd  %pwd  %pycat  %pylab  %qtconsole  %quickref  %recall  %rehashx  %reload_ext  %ren  %rep  %rerun  %reset  %reset_selective  %rmdir  %run  %save  %sc  %set_env  %store  %sx  %system  %tb  %time  %timeit  %unalias  %unload_ext  %who  %who_ls  %whos  %xdel  %xmode\n",
       "\n",
       "Available cell magics:\n",
       "%%!  %%HTML  %%R  %%SVG  %%bash  %%capture  %%cmd  %%debug  %%file  %%html  %%javascript  %%js  %%latex  %%perl  %%prun  %%pypy  %%python  %%python2  %%python3  %%ruby  %%script  %%sh  %%svg  %%sx  %%system  %%time  %%timeit  %%writefile\n",
       "\n",
       "Automagic is ON, % prefix IS NOT needed for line magics."
      ]
     },
     "execution_count": 6,
     "metadata": {},
     "output_type": "execute_result"
    }
   ],
   "source": [
    "% lsmagic"
   ]
  },
  {
   "cell_type": "markdown",
   "metadata": {},
   "source": [
    "To change this, run `conda ìnstall -c r rpy2` (or `pip install rpy2`, if you are not using Anaconda)"
   ]
  },
  {
   "cell_type": "code",
   "execution_count": 7,
   "metadata": {
    "collapsed": false
   },
   "outputs": [],
   "source": [
    "# This should work if rpy2 has been installed succesfully:\n",
    "import rpy2.interactive as r"
   ]
  },
  {
   "cell_type": "markdown",
   "metadata": {},
   "source": [
    "Now we can load the `rpy2.ipython` extension to make this work (the `rmagic` extension described [here](https://blog.dominodatalab.com/lesser-known-ways-of-using-notebooks/) is outdated, but the rest of the post is still valid)."
   ]
  },
  {
   "cell_type": "code",
   "execution_count": 8,
   "metadata": {
    "collapsed": false
   },
   "outputs": [
    {
     "name": "stdout",
     "output_type": "stream",
     "text": [
      "The rpy2.ipython extension is already loaded. To reload it, use:\n",
      "  %reload_ext rpy2.ipython\n"
     ]
    }
   ],
   "source": [
    "%load_ext rpy2.ipython"
   ]
  },
  {
   "cell_type": "markdown",
   "metadata": {},
   "source": [
    "When running `lsmagic`, we should now be able to see support for `%%R`, `%R`, and so on (careful, the list is not sorted alphabetically, better use `Ctrl+F` :)."
   ]
  },
  {
   "cell_type": "code",
   "execution_count": 9,
   "metadata": {
    "collapsed": false
   },
   "outputs": [
    {
     "data": {
      "text/plain": [
       "Available line magics:\n",
       "%R  %Rdevice  %Rget  %Rpull  %Rpush  %alias  %alias_magic  %autocall  %automagic  %autosave  %bookmark  %cd  %clear  %cls  %colors  %config  %connect_info  %copy  %ddir  %debug  %dhist  %dirs  %doctest_mode  %echo  %ed  %edit  %env  %gui  %hist  %history  %killbgscripts  %ldir  %less  %load  %load_ext  %loadpy  %logoff  %logon  %logstart  %logstate  %logstop  %ls  %lsmagic  %macro  %magic  %matplotlib  %mkdir  %more  %notebook  %page  %pastebin  %pdb  %pdef  %pdoc  %pfile  %pinfo  %pinfo2  %popd  %pprint  %precision  %profile  %prun  %psearch  %psource  %pushd  %pwd  %pycat  %pylab  %qtconsole  %quickref  %recall  %rehashx  %reload_ext  %ren  %rep  %rerun  %reset  %reset_selective  %rmdir  %run  %save  %sc  %set_env  %store  %sx  %system  %tb  %time  %timeit  %unalias  %unload_ext  %who  %who_ls  %whos  %xdel  %xmode\n",
       "\n",
       "Available cell magics:\n",
       "%%!  %%HTML  %%R  %%SVG  %%bash  %%capture  %%cmd  %%debug  %%file  %%html  %%javascript  %%js  %%latex  %%perl  %%prun  %%pypy  %%python  %%python2  %%python3  %%ruby  %%script  %%sh  %%svg  %%sx  %%system  %%time  %%timeit  %%writefile\n",
       "\n",
       "Automagic is ON, % prefix IS NOT needed for line magics."
      ]
     },
     "execution_count": 9,
     "metadata": {},
     "output_type": "execute_result"
    }
   ],
   "source": [
    "% lsmagic"
   ]
  },
  {
   "cell_type": "markdown",
   "metadata": {},
   "source": [
    "Now, we can run single lines of R code like this:"
   ]
  },
  {
   "cell_type": "code",
   "execution_count": 10,
   "metadata": {
    "collapsed": false
   },
   "outputs": [
    {
     "data": {
      "text/plain": [
       "array([ 6.])"
      ]
     },
     "execution_count": 10,
     "metadata": {},
     "output_type": "execute_result"
    }
   ],
   "source": [
    "%R x <- 1 + 2 + 3"
   ]
  },
  {
   "cell_type": "raw",
   "metadata": {},
   "source": [
    "Code blocks are also supported:"
   ]
  },
  {
   "cell_type": "code",
   "execution_count": 11,
   "metadata": {
    "collapsed": false
   },
   "outputs": [],
   "source": [
    "%%R\n",
    "x <- runif(10)\n",
    "y <- runif(10)"
   ]
  },
  {
   "cell_type": "markdown",
   "metadata": {},
   "source": [
    "Let's try a more complete [example](https://github.com/IRkernel/IRkernel/blob/master/example-notebooks/Demo.ipynb):"
   ]
  },
  {
   "cell_type": "code",
   "execution_count": 12,
   "metadata": {
    "collapsed": false
   },
   "outputs": [
    {
     "data": {
      "image/png": "[encoded data removed]"
     },
     "metadata": {},
     "output_type": "display_data"
    }
   ],
   "source": [
    "%%R\n",
    "x <- seq(0, 2*pi, length.out=50)\n",
    "plot(x, cos(x))"
   ]
  },
  {
   "cell_type": "markdown",
   "metadata": {},
   "source": [
    "## Combining Pyhton and R"
   ]
  },
  {
   "cell_type": "code",
   "execution_count": 13,
   "metadata": {
    "collapsed": false
   },
   "outputs": [],
   "source": [
    "%Rpush pythonVariable"
   ]
  },
  {
   "cell_type": "code",
   "execution_count": 14,
   "metadata": {
    "collapsed": true
   },
   "outputs": [],
   "source": [
    "%%R\n",
    "rVariable <- pythonVariable + 123"
   ]
  },
  {
   "cell_type": "code",
   "execution_count": 15,
   "metadata": {
    "collapsed": true
   },
   "outputs": [],
   "source": [
    "%Rpull rVariable"
   ]
  },
  {
   "cell_type": "code",
   "execution_count": 34,
   "metadata": {
    "collapsed": false
   },
   "outputs": [
    {
     "name": "stdout",
     "output_type": "stream",
     "text": [
      "test  93036.0\n"
     ]
    }
   ],
   "source": [
    "print(\"test \", rVariable[0])"
   ]
  },
  {
   "cell_type": "markdown",
   "metadata": {},
   "source": [
    "## Widgets"
   ]
  },
  {
   "cell_type": "code",
   "execution_count": 91,
   "metadata": {
    "collapsed": false,
    "scrolled": true
   },
   "outputs": [],
   "source": [
    "%matplotlib notebook\n",
    "import numpy as np\n",
    "import ipywidgets as widgets\n",
    "import matplotlib.pyplot as plt\n",
    "\n",
    "t = np.arange(0.,1.0,.1)\n",
    "def testplot(x):\n",
    "    plt.plot(t, t, 'r--', x, x**2, 'bs', x, x**3, 'g^')"
   ]
  },
  {
   "cell_type": "code",
   "execution_count": 92,
   "metadata": {
    "collapsed": false
   },
   "outputs": [
    {
     "data": {
      "text/plain": [
       "<IPython.core.display.Javascript object>"
      ]
     },
     "metadata": {},
     "output_type": "display_data"
    },
    {
     "data": {
      "text/html": [
       "<img src=\"data:image/png;base64,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\" width=\"640\">"
      ],
      "text/plain": [
       "<IPython.core.display.HTML object>"
      ]
     },
     "metadata": {},
     "output_type": "execute_result"
    }
   ],
   "source": [
    "widgets.interact(testplot, x=(1,10,1))"
   ]
  }
 ],
 "metadata": {
  "kernelspec": {
   "display_name": "Python 3",
   "language": "python",
   "name": "python3"
  },
  "language_info": {
   "codemirror_mode": {
    "name": "ipython",
    "version": 3.0
   },
   "file_extension": ".py",
   "mimetype": "text/x-python",
   "name": "python",
   "nbconvert_exporter": "python",
   "pygments_lexer": "ipython3",
   "version": "3.6.0"
  },
  "widgets": {
   "state": {
    "5275aea4962745d8a3bc31c1f84763c2": {
     "views": [
      {
       "cell_index": 26.0
      }
     ]
    }
   },
   "version": "1.2.0"
  }
 },
 "nbformat": 4,
 "nbformat_minor": 0
}